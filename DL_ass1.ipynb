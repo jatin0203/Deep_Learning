{
 "cells": [
  {
   "cell_type": "code",
   "execution_count": 1,
   "id": "4fed4672",
   "metadata": {},
   "outputs": [],
   "source": [
    "import random\n",
    "import numpy as np\n",
    "import pandas as pd\n",
    "import matplotlib.pyplot as plt\n",
    "from sklearn.model_selection import train_test_split\n",
    "import keras\n",
    "from keras.datasets import fashion_mnist\n",
    "\n",
    "#importing the dataset from keras library\n",
    "(x_train, y_train), (x_test, y_test) = fashion_mnist.load_data()\n",
    "\n",
    "# #one data image per label\n",
    "# fig,ax=plt.subplots(nrows=10,figsize=(15,15))\n",
    "# for i in range(10):\n",
    "#     ax[i].set_title(\"\\n class {} image\".format(i))\n",
    "#     ax[i].axis(\"off\")\n",
    "#     x=x_train[y_train==i]\n",
    "#     ax[i].imshow(x[0,:,:],cmap=\"gray\")"
   ]
  },
  {
   "cell_type": "code",
   "execution_count": 2,
   "id": "8364d03d",
   "metadata": {},
   "outputs": [],
   "source": [
    "#normalizing the data between 0-1\n",
    "x_train=x_train/255\n",
    "x_train=x_train.astype(float);\n",
    "x_test=x_test/255\n",
    "x_test=x_test.astype(float);\n",
    "\n",
    "#flattening the data points to 1D\n",
    "x_train=x_train.reshape(60000,784)\n",
    "x_test=x_test.reshape(10000,784)"
   ]
  },
  {
   "cell_type": "code",
   "execution_count": null,
   "id": "385f2404",
   "metadata": {},
   "outputs": [],
   "source": [
    "class FeedForwardNN:\n",
    "    def __init__(self,epochs,noOfHL,NeuronsPL,noOfClass,X_train,y_train,x_test,y_test):\n",
    "        self.noOfHL=noOfHL\n",
    "        self.ListOfNeuronsPL=NeuronsPL\n",
    "        self.noOfClass=noOfClass\n",
    "        self.x_train=x_train\n",
    "        self.epochs=epochs\n",
    "        #initialise the initial weights matrix which contains noOfHiddenLayers+1  weight matrices\n",
    "        self.W=initialize_weights(self)\n",
    "        #initialise the initial biases matrix which contains noOfHiddenLayers+1  biases matrices\n",
    "        self.b=initialize_biases(self)\n",
    "\n",
    "    #returns the weight matrix for the initial configuration\n",
    "    def initialize_weight(self):\n",
    "        weight=[]\n",
    "        for(i in range(self.noOfHL)):\n",
    "            if(i==0)\n",
    "                w=np.random.normal(0, 1, size=(self.ListOfNeuronsPL[i],self.x_train.shape[1]))\n",
    "            else\n",
    "                w=np.random.normal(0,1,size=(self.ListOfNeuronPL[i],self.ListOfNeuronPL[i-1]))\n",
    "            weight[i]=w\n",
    "        w=np.random.normal(0,1,size=(self.noOfClass,self.ListOfNeuronPL[self.noOfHL-1]))\n",
    "        weight[self.noOfHL]=w\n",
    "        return weight\n",
    "    #returns the biases matrix for the initial configurtion\n",
    "    def initialize_biases(self):\n",
    "        biases=[]\n",
    "        for(i in range(self.noOfHL)):\n",
    "            b=np.ones(self.ListOfNeuronsPL[i])\n",
    "            biases[i]=b\n",
    "        b=np.ones(self.noOfClass)\n",
    "        biases[self.noOfHL]=b\n",
    "        return biases\n",
    "        \n",
    "    def forwardPropogation():\n",
    "    def backwardPropogation():\n",
    "    def _sgd(self):\n",
    "        epochs=self.epochs\n",
    "            \n",
    "            \n",
    "        "
   ]
  }
 ],
 "metadata": {
  "kernelspec": {
   "display_name": "Python 3 (ipykernel)",
   "language": "python",
   "name": "python3"
  },
  "language_info": {
   "codemirror_mode": {
    "name": "ipython",
    "version": 3
   },
   "file_extension": ".py",
   "mimetype": "text/x-python",
   "name": "python",
   "nbconvert_exporter": "python",
   "pygments_lexer": "ipython3",
   "version": "3.9.13"
  }
 },
 "nbformat": 4,
 "nbformat_minor": 5
}
